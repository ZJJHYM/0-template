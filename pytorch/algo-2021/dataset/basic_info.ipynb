{
 "cells": [
  {
   "cell_type": "markdown",
   "metadata": {},
   "source": [
    "# Basic Info Analysis"
   ]
  },
  {
   "cell_type": "code",
   "execution_count": 48,
   "metadata": {},
   "outputs": [],
   "source": [
    "from ffmpy import FFmpeg, FFprobe\n",
    "\n",
    "import subprocess\n",
    "from subprocess import Popen, PIPE\n",
    "\n",
    "import json\n",
    "import os\n",
    "from collections import defaultdict\n",
    "\n",
    "import pandas as pd\n",
    "\n",
    "\n",
    "import matplotlib as mpl\n",
    "import matplotlib.pyplot as plt\n",
    "import seaborn as sns\n",
    "\n",
    "import numpy as np\n",
    "\n",
    "from IPython.display import display, HTML"
   ]
  },
  {
   "cell_type": "code",
   "execution_count": 32,
   "metadata": {},
   "outputs": [],
   "source": [
    "result_dict = {\n",
    "    \"train\": {\n",
    "        \"video_dir\": '/home/tione/notebook/algo-2021/dataset/videos/video_5k/train_5k',\n",
    "        \"feature_dir\": '/home/tione/notebook/algo-2021/dataset/tagging/tagging_dataset_train_5k'\n",
    "    },\n",
    "    \"test\": {\n",
    "        \"video_dir\": '/home/tione/notebook/algo-2021/dataset/videos/test_5k_2nd',\n",
    "        \"feature_dir\": '/home/tione/notebook/algo-2021/dataset/tagging/tagging_dataset_test_5k_2nd'\n",
    "    }\n",
    "}"
   ]
  },
  {
   "cell_type": "code",
   "execution_count": 33,
   "metadata": {},
   "outputs": [],
   "source": [
    "# def video_info(video_path):\n",
    "#     ff = FFprobe(\n",
    "#         global_options='-of json -show_streams -select_streams v',\n",
    "#         inputs={video_path: None},\n",
    "#     )\n",
    "    \n",
    "#     res = ff.run(stdout=PIPE, stderr=PIPE)\n",
    "#     video_stream = res[0]\n",
    "    \n",
    "#     video_detail = json.loads(video_stream).get('streams')[0]\n",
    "\n",
    "#     # 需要记录的属性\n",
    "#     # width, height\n",
    "#     # duration\n",
    "#     # nb_frames\n",
    "#     # r_frame_rate\n",
    "#     return video_detail"
   ]
  },
  {
   "cell_type": "code",
   "execution_count": null,
   "metadata": {},
   "outputs": [],
   "source": [
    "# for data_type in result_dict:\n",
    "#     data_dir = result_dict[data_type][\"video_dir\"]\n",
    "    \n",
    "#     info_dict = defaultdict(list)\n",
    "    \n",
    "#     for idx, item in enumerate(os.listdir(data_dir)):\n",
    "#         item_path = os.path.join(data_dir, item)\n",
    "        \n",
    "#         temp_info = video_info(item_path)\n",
    "#         for info_item in ['width', 'height', 'duration', 'nb_frames', 'r_frame_rate']:\n",
    "#             info_dict[info_item].append(temp_info[info_item])\n",
    "\n",
    "#         info_dict['name'].append(item)\n",
    "\n",
    "#         if idx % 50 == 0:\n",
    "#             print(idx)\n",
    "            \n",
    "#     result_dict[data_type]['df'] = pd.DataFrame.from_dict(info_dict)\n",
    "#     result_dict[data_type]['df'].to_csv(f'./eda/{data_type}_video_basic_info.csv')"
   ]
  },
  {
   "cell_type": "markdown",
   "metadata": {},
   "source": [
    "## Add feature info"
   ]
  },
  {
   "cell_type": "code",
   "execution_count": null,
   "metadata": {},
   "outputs": [],
   "source": [
    "# for data_type in result_dict:\n",
    "#     ocr_cnt_list = list()\n",
    "#     ocr_word_cnt_list = list()\n",
    "#     asr_cnt_list = list()\n",
    "#     asr_word_cnt_list = list()\n",
    "#     audio_cnt_list = list()\n",
    "#     frame_cnt_list = list()\n",
    "    \n",
    "#     for idx, row in result_dict[data_type][\"df\"].iterrows():\n",
    "#         if idx % 500 == 0:\n",
    "#             print(idx)\n",
    "        \n",
    "#         video_name = row['name'].split('.')[0]\n",
    "        \n",
    "#         text_feature_path = os.path.join(result_dict[data_type][\"feature_dir\"], \"text_txt\", \"tagging\", f\"{video_name}.txt\")\n",
    "        \n",
    "#         # text feature\n",
    "#         temp_data = json.load(open(text_feature_path))\n",
    "        \n",
    "#         ocr_word_cnt_list.append(len(temp_data['video_ocr'].replace('|', '')))\n",
    "#         asr_word_cnt_list.append(len(temp_data['video_asr'].replace('|', '')))\n",
    "        \n",
    "#         ocr_length = len(temp_data['video_ocr'].split('|'))\n",
    "#         asr_length = len(temp_data['video_asr'].split('|'))\n",
    "        \n",
    "#         ocr_cnt_list.append(ocr_length)\n",
    "#         asr_cnt_list.append(asr_length)\n",
    "        \n",
    "#         # audio feature\n",
    "#         audio_feature_path = os.path.join(result_dict[data_type][\"feature_dir\"], \"audio_npy\", \"Vggish\", \"tagging\", f\"{video_name}.npy\")\n",
    "#         try:\n",
    "#             temp_data = np.load(audio_feature_path)\n",
    "#             audio_cnt_list.append(temp_data.shape[0])\n",
    "#         except Exception as e:\n",
    "#             audio_cnt_list.append(0)\n",
    "        \n",
    "#         # video feature\n",
    "#         if data_type == 'train':\n",
    "#             extracted_frame_dir = os.path.join('./train_5k', 'frames', video_name)\n",
    "#         else:\n",
    "#             extracted_frame_dir = os.path.join('./test_5k_2nd', 'frames', video_name)\n",
    "        \n",
    "#         frame_cnt_list.append(len(os.listdir(extracted_frame_dir)))\n",
    "        \n",
    "    \n",
    "#     result_dict[data_type][\"df\"][\"ocr_length\"] = ocr_cnt_list\n",
    "#     result_dict[data_type][\"df\"][\"asr_length\"] = asr_cnt_list\n",
    "#     result_dict[data_type][\"df\"][\"audio_length\"] = audio_cnt_list\n",
    "#     result_dict[data_type][\"df\"][\"frame_length\"] = frame_cnt_list\n",
    "#     result_dict[data_type][\"df\"][\"ocr_word_length\"] = ocr_word_cnt_list\n",
    "#     result_dict[data_type][\"df\"][\"asr_word_length\"] = asr_word_cnt_list\n",
    "\n",
    "#     result_dict[data_type][\"df\"] = result[data_type][\"df\"].astype({'duration': 'float', 'nb_frames': 'int32',})"
   ]
  },
  {
   "cell_type": "code",
   "execution_count": 75,
   "metadata": {},
   "outputs": [],
   "source": [
    "# result_dict[\"train\"][\"df\"].to_csv('./eda/train_basic_info.csv')\n",
    "# result_dict[\"test\"][\"df\"].to_csv('./eda/test_basic_info.csv')"
   ]
  },
  {
   "cell_type": "code",
   "execution_count": 59,
   "metadata": {},
   "outputs": [],
   "source": [
    "result_dict[\"train\"][\"df\"] = pd.read_csv('./eda/train_basic_info.csv')\n",
    "result_dict[\"test\"][\"df\"] = pd.read_csv('./eda/test_basic_info.csv')"
   ]
  },
  {
   "cell_type": "code",
   "execution_count": 72,
   "metadata": {},
   "outputs": [
    {
     "data": {
      "text/html": [
       "<div>\n",
       "<style scoped>\n",
       "    .dataframe tbody tr th:only-of-type {\n",
       "        vertical-align: middle;\n",
       "    }\n",
       "\n",
       "    .dataframe tbody tr th {\n",
       "        vertical-align: top;\n",
       "    }\n",
       "\n",
       "    .dataframe thead th {\n",
       "        text-align: right;\n",
       "    }\n",
       "</style>\n",
       "<table border=\"1\" class=\"dataframe\">\n",
       "  <thead>\n",
       "    <tr style=\"text-align: right;\">\n",
       "      <th></th>\n",
       "      <th>width</th>\n",
       "      <th>height</th>\n",
       "      <th>duration</th>\n",
       "      <th>nb_frames</th>\n",
       "      <th>r_frame_rate</th>\n",
       "      <th>name</th>\n",
       "      <th>ocr_length</th>\n",
       "      <th>asr_length</th>\n",
       "      <th>audio_length</th>\n",
       "      <th>frame_length</th>\n",
       "      <th>ocr_word_length</th>\n",
       "      <th>asr_word_length</th>\n",
       "    </tr>\n",
       "  </thead>\n",
       "  <tbody>\n",
       "    <tr>\n",
       "      <th>0</th>\n",
       "      <td>1920</td>\n",
       "      <td>1080</td>\n",
       "      <td>36.600000</td>\n",
       "      <td>915</td>\n",
       "      <td>25/1</td>\n",
       "      <td>3b863c2504de7daea26a34946f84bcdd.mp4</td>\n",
       "      <td>141</td>\n",
       "      <td>2</td>\n",
       "      <td>38</td>\n",
       "      <td>148</td>\n",
       "      <td>1426</td>\n",
       "      <td>246</td>\n",
       "    </tr>\n",
       "    <tr>\n",
       "      <th>1</th>\n",
       "      <td>640</td>\n",
       "      <td>480</td>\n",
       "      <td>29.416992</td>\n",
       "      <td>706</td>\n",
       "      <td>24/1</td>\n",
       "      <td>1ac06bdc113639cb98cad0866a290c4c.mp4</td>\n",
       "      <td>19</td>\n",
       "      <td>3</td>\n",
       "      <td>30</td>\n",
       "      <td>119</td>\n",
       "      <td>185</td>\n",
       "      <td>142</td>\n",
       "    </tr>\n",
       "    <tr>\n",
       "      <th>2</th>\n",
       "      <td>1280</td>\n",
       "      <td>720</td>\n",
       "      <td>57.500000</td>\n",
       "      <td>1725</td>\n",
       "      <td>30/1</td>\n",
       "      <td>75c0fade7fc974b19f92ed6a667e5287.mp4</td>\n",
       "      <td>60</td>\n",
       "      <td>7</td>\n",
       "      <td>59</td>\n",
       "      <td>232</td>\n",
       "      <td>353</td>\n",
       "      <td>235</td>\n",
       "    </tr>\n",
       "    <tr>\n",
       "      <th>3</th>\n",
       "      <td>1280</td>\n",
       "      <td>720</td>\n",
       "      <td>38.720000</td>\n",
       "      <td>968</td>\n",
       "      <td>25/1</td>\n",
       "      <td>5934695826b00d02eb51e3af138245a7.mp4</td>\n",
       "      <td>36</td>\n",
       "      <td>4</td>\n",
       "      <td>40</td>\n",
       "      <td>156</td>\n",
       "      <td>282</td>\n",
       "      <td>180</td>\n",
       "    </tr>\n",
       "    <tr>\n",
       "      <th>4</th>\n",
       "      <td>720</td>\n",
       "      <td>1280</td>\n",
       "      <td>49.160000</td>\n",
       "      <td>1229</td>\n",
       "      <td>25/1</td>\n",
       "      <td>a828eb0b212869fa5feb1a50160f7a5f.mp4</td>\n",
       "      <td>49</td>\n",
       "      <td>7</td>\n",
       "      <td>51</td>\n",
       "      <td>198</td>\n",
       "      <td>250</td>\n",
       "      <td>236</td>\n",
       "    </tr>\n",
       "  </tbody>\n",
       "</table>\n",
       "</div>"
      ],
      "text/plain": [
       "   width  height   duration  nb_frames r_frame_rate  \\\n",
       "0   1920    1080  36.600000        915         25/1   \n",
       "1    640     480  29.416992        706         24/1   \n",
       "2   1280     720  57.500000       1725         30/1   \n",
       "3   1280     720  38.720000        968         25/1   \n",
       "4    720    1280  49.160000       1229         25/1   \n",
       "\n",
       "                                   name  ocr_length  asr_length  audio_length  \\\n",
       "0  3b863c2504de7daea26a34946f84bcdd.mp4         141           2            38   \n",
       "1  1ac06bdc113639cb98cad0866a290c4c.mp4          19           3            30   \n",
       "2  75c0fade7fc974b19f92ed6a667e5287.mp4          60           7            59   \n",
       "3  5934695826b00d02eb51e3af138245a7.mp4          36           4            40   \n",
       "4  a828eb0b212869fa5feb1a50160f7a5f.mp4          49           7            51   \n",
       "\n",
       "   frame_length  ocr_word_length  asr_word_length  \n",
       "0           148             1426              246  \n",
       "1           119              185              142  \n",
       "2           232              353              235  \n",
       "3           156              282              180  \n",
       "4           198              250              236  "
      ]
     },
     "execution_count": 72,
     "metadata": {},
     "output_type": "execute_result"
    }
   ],
   "source": [
    "result_dict[\"train\"][\"df\"].head()"
   ]
  },
  {
   "cell_type": "code",
   "execution_count": 53,
   "metadata": {},
   "outputs": [
    {
     "data": {
      "text/html": [
       "<div>\n",
       "<style scoped>\n",
       "    .dataframe tbody tr th:only-of-type {\n",
       "        vertical-align: middle;\n",
       "    }\n",
       "\n",
       "    .dataframe tbody tr th {\n",
       "        vertical-align: top;\n",
       "    }\n",
       "\n",
       "    .dataframe thead th {\n",
       "        text-align: right;\n",
       "    }\n",
       "</style>\n",
       "<table border=\"1\" class=\"dataframe\">\n",
       "  <thead>\n",
       "    <tr style=\"text-align: right;\">\n",
       "      <th></th>\n",
       "      <th>width</th>\n",
       "      <th>height</th>\n",
       "      <th>duration</th>\n",
       "      <th>nb_frames</th>\n",
       "      <th>r_frame_rate</th>\n",
       "      <th>name</th>\n",
       "      <th>ocr_length</th>\n",
       "      <th>asr_length</th>\n",
       "      <th>audio_length</th>\n",
       "      <th>frame_length</th>\n",
       "    </tr>\n",
       "  </thead>\n",
       "  <tbody>\n",
       "    <tr>\n",
       "      <th>0</th>\n",
       "      <td>1280</td>\n",
       "      <td>720</td>\n",
       "      <td>50.480000</td>\n",
       "      <td>1262</td>\n",
       "      <td>25/1</td>\n",
       "      <td>01c06c6424082915a92726a2f04d5733.mp4</td>\n",
       "      <td>39</td>\n",
       "      <td>3</td>\n",
       "      <td>52</td>\n",
       "      <td>204</td>\n",
       "    </tr>\n",
       "    <tr>\n",
       "      <th>1</th>\n",
       "      <td>1280</td>\n",
       "      <td>720</td>\n",
       "      <td>30.800000</td>\n",
       "      <td>770</td>\n",
       "      <td>25/1</td>\n",
       "      <td>030f4dde16c757b5648da1b199a30c3e.mp4</td>\n",
       "      <td>37</td>\n",
       "      <td>3</td>\n",
       "      <td>32</td>\n",
       "      <td>125</td>\n",
       "    </tr>\n",
       "    <tr>\n",
       "      <th>2</th>\n",
       "      <td>720</td>\n",
       "      <td>1280</td>\n",
       "      <td>59.240000</td>\n",
       "      <td>1481</td>\n",
       "      <td>25/1</td>\n",
       "      <td>03137ae5e1d7f173252e8851531b5624.mp4</td>\n",
       "      <td>51</td>\n",
       "      <td>6</td>\n",
       "      <td>61</td>\n",
       "      <td>239</td>\n",
       "    </tr>\n",
       "    <tr>\n",
       "      <th>3</th>\n",
       "      <td>720</td>\n",
       "      <td>1280</td>\n",
       "      <td>57.850000</td>\n",
       "      <td>1387</td>\n",
       "      <td>24000/1001</td>\n",
       "      <td>0318424347d774903980fcdbdf99b885.mp4</td>\n",
       "      <td>69</td>\n",
       "      <td>5</td>\n",
       "      <td>60</td>\n",
       "      <td>233</td>\n",
       "    </tr>\n",
       "    <tr>\n",
       "      <th>4</th>\n",
       "      <td>1280</td>\n",
       "      <td>720</td>\n",
       "      <td>44.500000</td>\n",
       "      <td>1068</td>\n",
       "      <td>24/1</td>\n",
       "      <td>041520688b378f9771972d38b30b1f43.mp4</td>\n",
       "      <td>50</td>\n",
       "      <td>2</td>\n",
       "      <td>46</td>\n",
       "      <td>180</td>\n",
       "    </tr>\n",
       "  </tbody>\n",
       "</table>\n",
       "</div>"
      ],
      "text/plain": [
       "   width  height   duration nb_frames r_frame_rate  \\\n",
       "0   1280     720  50.480000      1262         25/1   \n",
       "1   1280     720  30.800000       770         25/1   \n",
       "2    720    1280  59.240000      1481         25/1   \n",
       "3    720    1280  57.850000      1387   24000/1001   \n",
       "4   1280     720  44.500000      1068         24/1   \n",
       "\n",
       "                                   name  ocr_length  asr_length  audio_length  \\\n",
       "0  01c06c6424082915a92726a2f04d5733.mp4          39           3            52   \n",
       "1  030f4dde16c757b5648da1b199a30c3e.mp4          37           3            32   \n",
       "2  03137ae5e1d7f173252e8851531b5624.mp4          51           6            61   \n",
       "3  0318424347d774903980fcdbdf99b885.mp4          69           5            60   \n",
       "4  041520688b378f9771972d38b30b1f43.mp4          50           2            46   \n",
       "\n",
       "   frame_length  \n",
       "0           204  \n",
       "1           125  \n",
       "2           239  \n",
       "3           233  \n",
       "4           180  "
      ]
     },
     "execution_count": 53,
     "metadata": {},
     "output_type": "execute_result"
    }
   ],
   "source": [
    "result_dict[\"test\"][\"df\"].head()"
   ]
  },
  {
   "cell_type": "code",
   "execution_count": 54,
   "metadata": {},
   "outputs": [
    {
     "data": {
      "text/plain": [
       "<AxesSubplot:xlabel='audio_length', ylabel='Count'>"
      ]
     },
     "execution_count": 54,
     "metadata": {},
     "output_type": "execute_result"
    },
    {
     "data": {
      "image/png": "[encoded data removed]",
      "text/plain": [
       "<Figure size 2592x432 with 1 Axes>"
      ]
     },
     "metadata": {
      "needs_background": "light"
     },
     "output_type": "display_data"
    }
   ],
   "source": [
    "plt.figure(figsize=(36, 6))\n",
    "# plt.xticks(rotation=90)\n",
    "sns.histplot(data=result_dict[\"train\"][\"df\"], x=\"audio_length\")"
   ]
  },
  {
   "cell_type": "code",
   "execution_count": 55,
   "metadata": {},
   "outputs": [
    {
     "data": {
      "text/plain": [
       "<AxesSubplot:xlabel='audio_length', ylabel='Count'>"
      ]
     },
     "execution_count": 55,
     "metadata": {},
     "output_type": "execute_result"
    },
    {
     "data": {
      "image/png": "[encoded data removed]",
      "text/plain": [
       "<Figure size 2592x432 with 1 Axes>"
      ]
     },
     "metadata": {
      "needs_background": "light"
     },
     "output_type": "display_data"
    }
   ],
   "source": [
    "plt.figure(figsize=(36, 6))\n",
    "# plt.xticks(rotation=90)\n",
    "sns.histplot(data=result_dict[\"test\"][\"df\"], x=\"audio_length\")"
   ]
  },
  {
   "cell_type": "code",
   "execution_count": 56,
   "metadata": {},
   "outputs": [
    {
     "data": {
      "text/plain": [
       "<AxesSubplot:xlabel='frame_length', ylabel='Count'>"
      ]
     },
     "execution_count": 56,
     "metadata": {},
     "output_type": "execute_result"
    },
    {
     "data": {
      "image/png": "[encoded data removed]",
      "text/plain": [
       "<Figure size 2592x432 with 1 Axes>"
      ]
     },
     "metadata": {
      "needs_background": "light"
     },
     "output_type": "display_data"
    }
   ],
   "source": [
    "plt.figure(figsize=(36, 6))\n",
    "# plt.xticks(rotation=90)\n",
    "sns.histplot(data=result_dict[\"train\"][\"df\"], x=\"frame_length\")"
   ]
  },
  {
   "cell_type": "code",
   "execution_count": 57,
   "metadata": {},
   "outputs": [
    {
     "data": {
      "text/plain": [
       "<AxesSubplot:xlabel='frame_length', ylabel='Count'>"
      ]
     },
     "execution_count": 57,
     "metadata": {},
     "output_type": "execute_result"
    },
    {
     "data": {
      "image/png": "[encoded data removed]",
      "text/plain": [
       "<Figure size 2592x432 with 1 Axes>"
      ]
     },
     "metadata": {
      "needs_background": "light"
     },
     "output_type": "display_data"
    }
   ],
   "source": [
    "plt.figure(figsize=(36, 6))\n",
    "# plt.xticks(rotation=90)\n",
    "sns.histplot(data=result_dict[\"test\"][\"df\"], x=\"frame_length\")"
   ]
  },
  {
   "cell_type": "code",
   "execution_count": 42,
   "metadata": {},
   "outputs": [
    {
     "data": {
      "text/plain": [
       "<AxesSubplot:xlabel='ocr_length', ylabel='Count'>"
      ]
     },
     "execution_count": 42,
     "metadata": {},
     "output_type": "execute_result"
    },
    {
     "data": {
      "image/png": "[encoded data removed]",
      "text/plain": [
       "<Figure size 2592x432 with 1 Axes>"
      ]
     },
     "metadata": {
      "needs_background": "light"
     },
     "output_type": "display_data"
    }
   ],
   "source": [
    "plt.figure(figsize=(36, 6))\n",
    "# plt.xticks(rotation=90)\n",
    "sns.histplot(data=result_dict[\"train\"][\"df\"], x=\"ocr_length\")"
   ]
  },
  {
   "cell_type": "code",
   "execution_count": 47,
   "metadata": {},
   "outputs": [
    {
     "data": {
      "text/plain": [
       "<AxesSubplot:xlabel='asr_length', ylabel='Count'>"
      ]
     },
     "execution_count": 47,
     "metadata": {},
     "output_type": "execute_result"
    },
    {
     "data": {
      "image/png": "[encoded data removed]",
      "text/plain": [
       "<Figure size 2592x432 with 1 Axes>"
      ]
     },
     "metadata": {
      "needs_background": "light"
     },
     "output_type": "display_data"
    }
   ],
   "source": [
    "plt.figure(figsize=(36, 6))\n",
    "# plt.xticks(rotation=90)\n",
    "sns.histplot(data=result_dict[\"train\"][\"df\"], x=\"asr_length\", binwidth=1)"
   ]
  },
  {
   "cell_type": "code",
   "execution_count": 44,
   "metadata": {},
   "outputs": [
    {
     "data": {
      "text/plain": [
       "<AxesSubplot:xlabel='ocr_length', ylabel='Count'>"
      ]
     },
     "execution_count": 44,
     "metadata": {},
     "output_type": "execute_result"
    },
    {
     "data": {
      "image/png": "[encoded data removed]",
      "text/plain": [
       "<Figure size 2592x432 with 1 Axes>"
      ]
     },
     "metadata": {
      "needs_background": "light"
     },
     "output_type": "display_data"
    }
   ],
   "source": [
    "plt.figure(figsize=(36, 6))\n",
    "# plt.xticks(rotation=90)\n",
    "sns.histplot(data=result_dict[\"test\"][\"df\"], x=\"ocr_length\")"
   ]
  },
  {
   "cell_type": "code",
   "execution_count": 46,
   "metadata": {},
   "outputs": [
    {
     "data": {
      "text/plain": [
       "<AxesSubplot:xlabel='asr_length', ylabel='Count'>"
      ]
     },
     "execution_count": 46,
     "metadata": {},
     "output_type": "execute_result"
    },
    {
     "data": {
      "image/png": "[encoded data removed]",
      "text/plain": [
       "<Figure size 2592x432 with 1 Axes>"
      ]
     },
     "metadata": {
      "needs_background": "light"
     },
     "output_type": "display_data"
    }
   ],
   "source": [
    "plt.figure(figsize=(36, 6))\n",
    "# plt.xticks(rotation=90)\n",
    "sns.histplot(data=result_dict[\"test\"][\"df\"], x=\"asr_length\", binwidth=1)"
   ]
  },
  {
   "cell_type": "markdown",
   "metadata": {},
   "source": [
    "## Caluclate correlation"
   ]
  },
  {
   "cell_type": "code",
   "execution_count": 73,
   "metadata": {},
   "outputs": [
    {
     "data": {
      "text/html": [
       "<div>\n",
       "<style scoped>\n",
       "    .dataframe tbody tr th:only-of-type {\n",
       "        vertical-align: middle;\n",
       "    }\n",
       "\n",
       "    .dataframe tbody tr th {\n",
       "        vertical-align: top;\n",
       "    }\n",
       "\n",
       "    .dataframe thead th {\n",
       "        text-align: right;\n",
       "    }\n",
       "</style>\n",
       "<table border=\"1\" class=\"dataframe\">\n",
       "  <thead>\n",
       "    <tr style=\"text-align: right;\">\n",
       "      <th></th>\n",
       "      <th>width</th>\n",
       "      <th>height</th>\n",
       "      <th>duration</th>\n",
       "      <th>nb_frames</th>\n",
       "      <th>ocr_length</th>\n",
       "      <th>asr_length</th>\n",
       "      <th>audio_length</th>\n",
       "      <th>frame_length</th>\n",
       "      <th>ocr_word_length</th>\n",
       "      <th>asr_word_length</th>\n",
       "    </tr>\n",
       "  </thead>\n",
       "  <tbody>\n",
       "    <tr>\n",
       "      <th>width</th>\n",
       "      <td>1.000000</td>\n",
       "      <td>-0.146690</td>\n",
       "      <td>0.289048</td>\n",
       "      <td>0.220625</td>\n",
       "      <td>0.099510</td>\n",
       "      <td>0.182466</td>\n",
       "      <td>0.288245</td>\n",
       "      <td>0.289113</td>\n",
       "      <td>0.047185</td>\n",
       "      <td>0.209710</td>\n",
       "    </tr>\n",
       "    <tr>\n",
       "      <th>height</th>\n",
       "      <td>-0.146690</td>\n",
       "      <td>1.000000</td>\n",
       "      <td>0.156918</td>\n",
       "      <td>0.139469</td>\n",
       "      <td>0.214278</td>\n",
       "      <td>0.099267</td>\n",
       "      <td>0.156861</td>\n",
       "      <td>0.156997</td>\n",
       "      <td>0.135809</td>\n",
       "      <td>0.145768</td>\n",
       "    </tr>\n",
       "    <tr>\n",
       "      <th>duration</th>\n",
       "      <td>0.289048</td>\n",
       "      <td>0.156918</td>\n",
       "      <td>1.000000</td>\n",
       "      <td>0.673754</td>\n",
       "      <td>0.337825</td>\n",
       "      <td>0.515869</td>\n",
       "      <td>0.999442</td>\n",
       "      <td>0.999987</td>\n",
       "      <td>0.219726</td>\n",
       "      <td>0.808340</td>\n",
       "    </tr>\n",
       "    <tr>\n",
       "      <th>nb_frames</th>\n",
       "      <td>0.220625</td>\n",
       "      <td>0.139469</td>\n",
       "      <td>0.673754</td>\n",
       "      <td>1.000000</td>\n",
       "      <td>0.230739</td>\n",
       "      <td>0.352621</td>\n",
       "      <td>0.672928</td>\n",
       "      <td>0.673821</td>\n",
       "      <td>0.151444</td>\n",
       "      <td>0.561411</td>\n",
       "    </tr>\n",
       "    <tr>\n",
       "      <th>ocr_length</th>\n",
       "      <td>0.099510</td>\n",
       "      <td>0.214278</td>\n",
       "      <td>0.337825</td>\n",
       "      <td>0.230739</td>\n",
       "      <td>1.000000</td>\n",
       "      <td>0.045052</td>\n",
       "      <td>0.337140</td>\n",
       "      <td>0.337859</td>\n",
       "      <td>0.813742</td>\n",
       "      <td>0.341257</td>\n",
       "    </tr>\n",
       "    <tr>\n",
       "      <th>asr_length</th>\n",
       "      <td>0.182466</td>\n",
       "      <td>0.099267</td>\n",
       "      <td>0.515869</td>\n",
       "      <td>0.352621</td>\n",
       "      <td>0.045052</td>\n",
       "      <td>1.000000</td>\n",
       "      <td>0.515806</td>\n",
       "      <td>0.515814</td>\n",
       "      <td>0.000271</td>\n",
       "      <td>0.187100</td>\n",
       "    </tr>\n",
       "    <tr>\n",
       "      <th>audio_length</th>\n",
       "      <td>0.288245</td>\n",
       "      <td>0.156861</td>\n",
       "      <td>0.999442</td>\n",
       "      <td>0.672928</td>\n",
       "      <td>0.337140</td>\n",
       "      <td>0.515806</td>\n",
       "      <td>1.000000</td>\n",
       "      <td>0.999423</td>\n",
       "      <td>0.219123</td>\n",
       "      <td>0.808154</td>\n",
       "    </tr>\n",
       "    <tr>\n",
       "      <th>frame_length</th>\n",
       "      <td>0.289113</td>\n",
       "      <td>0.156997</td>\n",
       "      <td>0.999987</td>\n",
       "      <td>0.673821</td>\n",
       "      <td>0.337859</td>\n",
       "      <td>0.515814</td>\n",
       "      <td>0.999423</td>\n",
       "      <td>1.000000</td>\n",
       "      <td>0.219734</td>\n",
       "      <td>0.808373</td>\n",
       "    </tr>\n",
       "    <tr>\n",
       "      <th>ocr_word_length</th>\n",
       "      <td>0.047185</td>\n",
       "      <td>0.135809</td>\n",
       "      <td>0.219726</td>\n",
       "      <td>0.151444</td>\n",
       "      <td>0.813742</td>\n",
       "      <td>0.000271</td>\n",
       "      <td>0.219123</td>\n",
       "      <td>0.219734</td>\n",
       "      <td>1.000000</td>\n",
       "      <td>0.256461</td>\n",
       "    </tr>\n",
       "    <tr>\n",
       "      <th>asr_word_length</th>\n",
       "      <td>0.209710</td>\n",
       "      <td>0.145768</td>\n",
       "      <td>0.808340</td>\n",
       "      <td>0.561411</td>\n",
       "      <td>0.341257</td>\n",
       "      <td>0.187100</td>\n",
       "      <td>0.808154</td>\n",
       "      <td>0.808373</td>\n",
       "      <td>0.256461</td>\n",
       "      <td>1.000000</td>\n",
       "    </tr>\n",
       "  </tbody>\n",
       "</table>\n",
       "</div>"
      ],
      "text/plain": [
       "                    width    height  duration  nb_frames  ocr_length  \\\n",
       "width            1.000000 -0.146690  0.289048   0.220625    0.099510   \n",
       "height          -0.146690  1.000000  0.156918   0.139469    0.214278   \n",
       "duration         0.289048  0.156918  1.000000   0.673754    0.337825   \n",
       "nb_frames        0.220625  0.139469  0.673754   1.000000    0.230739   \n",
       "ocr_length       0.099510  0.214278  0.337825   0.230739    1.000000   \n",
       "asr_length       0.182466  0.099267  0.515869   0.352621    0.045052   \n",
       "audio_length     0.288245  0.156861  0.999442   0.672928    0.337140   \n",
       "frame_length     0.289113  0.156997  0.999987   0.673821    0.337859   \n",
       "ocr_word_length  0.047185  0.135809  0.219726   0.151444    0.813742   \n",
       "asr_word_length  0.209710  0.145768  0.808340   0.561411    0.341257   \n",
       "\n",
       "                 asr_length  audio_length  frame_length  ocr_word_length  \\\n",
       "width              0.182466      0.288245      0.289113         0.047185   \n",
       "height             0.099267      0.156861      0.156997         0.135809   \n",
       "duration           0.515869      0.999442      0.999987         0.219726   \n",
       "nb_frames          0.352621      0.672928      0.673821         0.151444   \n",
       "ocr_length         0.045052      0.337140      0.337859         0.813742   \n",
       "asr_length         1.000000      0.515806      0.515814         0.000271   \n",
       "audio_length       0.515806      1.000000      0.999423         0.219123   \n",
       "frame_length       0.515814      0.999423      1.000000         0.219734   \n",
       "ocr_word_length    0.000271      0.219123      0.219734         1.000000   \n",
       "asr_word_length    0.187100      0.808154      0.808373         0.256461   \n",
       "\n",
       "                 asr_word_length  \n",
       "width                   0.209710  \n",
       "height                  0.145768  \n",
       "duration                0.808340  \n",
       "nb_frames               0.561411  \n",
       "ocr_length              0.341257  \n",
       "asr_length              0.187100  \n",
       "audio_length            0.808154  \n",
       "frame_length            0.808373  \n",
       "ocr_word_length         0.256461  \n",
       "asr_word_length         1.000000  "
      ]
     },
     "execution_count": 73,
     "metadata": {},
     "output_type": "execute_result"
    }
   ],
   "source": [
    "result_dict[\"train\"][\"df\"].corr()"
   ]
  },
  {
   "cell_type": "code",
   "execution_count": 74,
   "metadata": {},
   "outputs": [
    {
     "data": {
      "text/html": [
       "<div>\n",
       "<style scoped>\n",
       "    .dataframe tbody tr th:only-of-type {\n",
       "        vertical-align: middle;\n",
       "    }\n",
       "\n",
       "    .dataframe tbody tr th {\n",
       "        vertical-align: top;\n",
       "    }\n",
       "\n",
       "    .dataframe thead th {\n",
       "        text-align: right;\n",
       "    }\n",
       "</style>\n",
       "<table border=\"1\" class=\"dataframe\">\n",
       "  <thead>\n",
       "    <tr style=\"text-align: right;\">\n",
       "      <th></th>\n",
       "      <th>width</th>\n",
       "      <th>height</th>\n",
       "      <th>duration</th>\n",
       "      <th>nb_frames</th>\n",
       "      <th>ocr_length</th>\n",
       "      <th>asr_length</th>\n",
       "      <th>audio_length</th>\n",
       "      <th>frame_length</th>\n",
       "      <th>ocr_word_length</th>\n",
       "      <th>asr_word_length</th>\n",
       "    </tr>\n",
       "  </thead>\n",
       "  <tbody>\n",
       "    <tr>\n",
       "      <th>width</th>\n",
       "      <td>1.000000</td>\n",
       "      <td>-0.207792</td>\n",
       "      <td>0.279545</td>\n",
       "      <td>0.239087</td>\n",
       "      <td>0.098177</td>\n",
       "      <td>0.145769</td>\n",
       "      <td>0.278692</td>\n",
       "      <td>0.279621</td>\n",
       "      <td>0.044801</td>\n",
       "      <td>0.209127</td>\n",
       "    </tr>\n",
       "    <tr>\n",
       "      <th>height</th>\n",
       "      <td>-0.207792</td>\n",
       "      <td>1.000000</td>\n",
       "      <td>0.146740</td>\n",
       "      <td>0.149347</td>\n",
       "      <td>0.225365</td>\n",
       "      <td>0.084591</td>\n",
       "      <td>0.147034</td>\n",
       "      <td>0.146845</td>\n",
       "      <td>0.146018</td>\n",
       "      <td>0.138278</td>\n",
       "    </tr>\n",
       "    <tr>\n",
       "      <th>duration</th>\n",
       "      <td>0.279545</td>\n",
       "      <td>0.146740</td>\n",
       "      <td>1.000000</td>\n",
       "      <td>0.714294</td>\n",
       "      <td>0.322015</td>\n",
       "      <td>0.516884</td>\n",
       "      <td>0.999803</td>\n",
       "      <td>0.999987</td>\n",
       "      <td>0.186952</td>\n",
       "      <td>0.805451</td>\n",
       "    </tr>\n",
       "    <tr>\n",
       "      <th>nb_frames</th>\n",
       "      <td>0.239087</td>\n",
       "      <td>0.149347</td>\n",
       "      <td>0.714294</td>\n",
       "      <td>1.000000</td>\n",
       "      <td>0.259526</td>\n",
       "      <td>0.382440</td>\n",
       "      <td>0.714534</td>\n",
       "      <td>0.714247</td>\n",
       "      <td>0.158878</td>\n",
       "      <td>0.579647</td>\n",
       "    </tr>\n",
       "    <tr>\n",
       "      <th>ocr_length</th>\n",
       "      <td>0.098177</td>\n",
       "      <td>0.225365</td>\n",
       "      <td>0.322015</td>\n",
       "      <td>0.259526</td>\n",
       "      <td>1.000000</td>\n",
       "      <td>0.077899</td>\n",
       "      <td>0.322015</td>\n",
       "      <td>0.322050</td>\n",
       "      <td>0.811410</td>\n",
       "      <td>0.311106</td>\n",
       "    </tr>\n",
       "    <tr>\n",
       "      <th>asr_length</th>\n",
       "      <td>0.145769</td>\n",
       "      <td>0.084591</td>\n",
       "      <td>0.516884</td>\n",
       "      <td>0.382440</td>\n",
       "      <td>0.077899</td>\n",
       "      <td>1.000000</td>\n",
       "      <td>0.517184</td>\n",
       "      <td>0.516861</td>\n",
       "      <td>0.032226</td>\n",
       "      <td>0.216786</td>\n",
       "    </tr>\n",
       "    <tr>\n",
       "      <th>audio_length</th>\n",
       "      <td>0.278692</td>\n",
       "      <td>0.147034</td>\n",
       "      <td>0.999803</td>\n",
       "      <td>0.714534</td>\n",
       "      <td>0.322015</td>\n",
       "      <td>0.517184</td>\n",
       "      <td>1.000000</td>\n",
       "      <td>0.999788</td>\n",
       "      <td>0.187127</td>\n",
       "      <td>0.805303</td>\n",
       "    </tr>\n",
       "    <tr>\n",
       "      <th>frame_length</th>\n",
       "      <td>0.279621</td>\n",
       "      <td>0.146845</td>\n",
       "      <td>0.999987</td>\n",
       "      <td>0.714247</td>\n",
       "      <td>0.322050</td>\n",
       "      <td>0.516861</td>\n",
       "      <td>0.999788</td>\n",
       "      <td>1.000000</td>\n",
       "      <td>0.186927</td>\n",
       "      <td>0.805370</td>\n",
       "    </tr>\n",
       "    <tr>\n",
       "      <th>ocr_word_length</th>\n",
       "      <td>0.044801</td>\n",
       "      <td>0.146018</td>\n",
       "      <td>0.186952</td>\n",
       "      <td>0.158878</td>\n",
       "      <td>0.811410</td>\n",
       "      <td>0.032226</td>\n",
       "      <td>0.187127</td>\n",
       "      <td>0.186927</td>\n",
       "      <td>1.000000</td>\n",
       "      <td>0.216850</td>\n",
       "    </tr>\n",
       "    <tr>\n",
       "      <th>asr_word_length</th>\n",
       "      <td>0.209127</td>\n",
       "      <td>0.138278</td>\n",
       "      <td>0.805451</td>\n",
       "      <td>0.579647</td>\n",
       "      <td>0.311106</td>\n",
       "      <td>0.216786</td>\n",
       "      <td>0.805303</td>\n",
       "      <td>0.805370</td>\n",
       "      <td>0.216850</td>\n",
       "      <td>1.000000</td>\n",
       "    </tr>\n",
       "  </tbody>\n",
       "</table>\n",
       "</div>"
      ],
      "text/plain": [
       "                    width    height  duration  nb_frames  ocr_length  \\\n",
       "width            1.000000 -0.207792  0.279545   0.239087    0.098177   \n",
       "height          -0.207792  1.000000  0.146740   0.149347    0.225365   \n",
       "duration         0.279545  0.146740  1.000000   0.714294    0.322015   \n",
       "nb_frames        0.239087  0.149347  0.714294   1.000000    0.259526   \n",
       "ocr_length       0.098177  0.225365  0.322015   0.259526    1.000000   \n",
       "asr_length       0.145769  0.084591  0.516884   0.382440    0.077899   \n",
       "audio_length     0.278692  0.147034  0.999803   0.714534    0.322015   \n",
       "frame_length     0.279621  0.146845  0.999987   0.714247    0.322050   \n",
       "ocr_word_length  0.044801  0.146018  0.186952   0.158878    0.811410   \n",
       "asr_word_length  0.209127  0.138278  0.805451   0.579647    0.311106   \n",
       "\n",
       "                 asr_length  audio_length  frame_length  ocr_word_length  \\\n",
       "width              0.145769      0.278692      0.279621         0.044801   \n",
       "height             0.084591      0.147034      0.146845         0.146018   \n",
       "duration           0.516884      0.999803      0.999987         0.186952   \n",
       "nb_frames          0.382440      0.714534      0.714247         0.158878   \n",
       "ocr_length         0.077899      0.322015      0.322050         0.811410   \n",
       "asr_length         1.000000      0.517184      0.516861         0.032226   \n",
       "audio_length       0.517184      1.000000      0.999788         0.187127   \n",
       "frame_length       0.516861      0.999788      1.000000         0.186927   \n",
       "ocr_word_length    0.032226      0.187127      0.186927         1.000000   \n",
       "asr_word_length    0.216786      0.805303      0.805370         0.216850   \n",
       "\n",
       "                 asr_word_length  \n",
       "width                   0.209127  \n",
       "height                  0.138278  \n",
       "duration                0.805451  \n",
       "nb_frames               0.579647  \n",
       "ocr_length              0.311106  \n",
       "asr_length              0.216786  \n",
       "audio_length            0.805303  \n",
       "frame_length            0.805370  \n",
       "ocr_word_length         0.216850  \n",
       "asr_word_length         1.000000  "
      ]
     },
     "execution_count": 74,
     "metadata": {},
     "output_type": "execute_result"
    }
   ],
   "source": [
    "result_dict[\"test\"][\"df\"].corr()"
   ]
  },
  {
   "cell_type": "code",
   "execution_count": null,
   "metadata": {},
   "outputs": [],
   "source": []
  }
 ],
 "metadata": {
  "kernelspec": {
   "display_name": "torch-1.8",
   "language": "python",
   "name": "torch-1.8"
  },
  "language_info": {
   "codemirror_mode": {
    "name": "ipython",
    "version": 3
   },
   "file_extension": ".py",
   "mimetype": "text/x-python",
   "name": "python",
   "nbconvert_exporter": "python",
   "pygments_lexer": "ipython3",
   "version": "3.8.10"
  }
 },
 "nbformat": 4,
 "nbformat_minor": 4
}
